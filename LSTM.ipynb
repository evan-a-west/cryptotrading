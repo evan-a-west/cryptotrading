{
 "cells": [
  {
   "cell_type": "code",
   "execution_count": 1,
   "metadata": {},
   "outputs": [
    {
     "name": "stdout",
     "output_type": "stream",
     "text": [
      "http://127.0.0.1:8787/status\n",
      "(53415, 120, 15)\n",
      "(53415,)\n",
      "(13354, 120, 15)\n",
      "(13354,)\n",
      "<class 'dask.array.core.Array'>\n",
      "<class 'dask.array.core.Array'>\n",
      "dask.array<sum-aggregate, shape=(), dtype=int64, chunksize=(), chunktype=numpy.ndarray>\n"
     ]
    }
   ],
   "source": [
    "from keras.models import Sequential\n",
    "from keras.layers import Dense, LSTM, Dropout\n",
    "# from keras.preprocessing import sequence\n",
    "# from numba import jit, njit, prange, float64, int32\n",
    "# from numba.experimental import jitclass\n",
    "# from numba import cuda, vectorize\n",
    "# from scikeras.wrappers import KerasClassifier\n",
    "\n",
    "# Dask stuff\n",
    "import dask\n",
    "from dask.distributed import Client, progress\n",
    "from dask import delayed\n",
    "import dask.dataframe as dd\n",
    "import dask.array as da\n",
    "\n",
    "import numpy as np\n",
    "\n",
    "\n",
    "\n",
    "client = Client(n_workers=8, threads_per_worker=2, memory_limit='1GB')\n",
    "print(client.dashboard_link)\n",
    "\n",
    "# filename = \"processedData2021-03-31.csv\"\n",
    "Root = \"AllOldData/5_29_2021/DataFromDeepLearningProcessing/DODGE/2021-05-02\"\n",
    "\n",
    "dir = \"/X_Train\"\n",
    "path = Root + dir\n",
    "X_Train = da.from_npy_stack(path)\n",
    "\n",
    "dir = \"/Y_Train\"\n",
    "path = Root + dir\n",
    "Y_Train = da.from_npy_stack(path)\n",
    "\n",
    "dir = \"/X_Test\"\n",
    "path = Root + dir\n",
    "X_Test = da.from_npy_stack(path)\n",
    "\n",
    "dir = \"/Y_Test\"\n",
    "path = Root + dir\n",
    "Y_Test = da.from_npy_stack(path)\n",
    "\n",
    "dir = \"/X_Test_Level_1\"\n",
    "path = Root + dir\n",
    "X_Test_Final = da.from_npy_stack(path)\n",
    "\n",
    "dir = \"/Y_Test_Level_1\"\n",
    "path = Root + dir\n",
    "Y_Test_Final = da.from_npy_stack(path)\n",
    "\n",
    "print(X_Train.shape)\n",
    "print(Y_Train.shape)\n",
    "print(X_Test.shape)\n",
    "print(Y_Test.shape)\n",
    "print(type(X_Train))\n",
    "print(type(X_Train))\n"
   ]
  },
  {
   "cell_type": "code",
   "execution_count": 13,
   "metadata": {},
   "outputs": [
    {
     "name": "stdout",
     "output_type": "stream",
     "text": [
      "150240\n"
     ]
    },
    {
     "data": {
      "text/plain": [
       "150240"
      ]
     },
     "execution_count": 13,
     "metadata": {},
     "output_type": "execute_result"
    }
   ],
   "source": [
    "print(da.count_nonzero(da.isnan(X_Train)).compute())\n",
    "len(da.argwhere(da.isnan(X_Train)).compute())"
   ]
  },
  {
   "cell_type": "code",
   "execution_count": 4,
   "metadata": {},
   "outputs": [],
   "source": [
    "temp = da.isnan(X_Train)\n"
   ]
  },
  {
   "cell_type": "code",
   "execution_count": 12,
   "metadata": {},
   "outputs": [
    {
     "data": {
      "text/plain": [
       "array([False, False, False, False, False, False, False, False, False,\n",
       "       False, False, False, False,  True, False])"
      ]
     },
     "execution_count": 12,
     "metadata": {},
     "output_type": "execute_result"
    }
   ],
   "source": [
    "temp[113][0].compute()"
   ]
  }
 ],
 "metadata": {
  "interpreter": {
   "hash": "2db524e06e9f5f4ffedc911c917cb75e12dbc923643829bf417064a77eb14d37"
  },
  "kernelspec": {
   "display_name": "Python 3.8.6 64-bit",
   "language": "python",
   "name": "python3"
  },
  "language_info": {
   "codemirror_mode": {
    "name": "ipython",
    "version": 3
   },
   "file_extension": ".py",
   "mimetype": "text/x-python",
   "name": "python",
   "nbconvert_exporter": "python",
   "pygments_lexer": "ipython3",
   "version": "3.8.6"
  },
  "orig_nbformat": 4
 },
 "nbformat": 4,
 "nbformat_minor": 2
}
