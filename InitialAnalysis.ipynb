{
 "cells": [
  {
   "cell_type": "code",
   "execution_count": 59,
   "metadata": {},
   "outputs": [],
   "source": [
    "import pandas as pd\n",
    "import numpy as np\n",
    "from sklearn.neural_network import MLPClassifier\n",
    "import matplotlib.pyplot as plt\n",
    "import mdp\n",
    "from datetime import datetime, timedelta\n",
    "from dateutil.parser import parse"
   ]
  },
  {
   "cell_type": "code",
   "execution_count": 39,
   "metadata": {},
   "outputs": [],
   "source": [
    " # Define the date on the initial file. Usually 9/23/2020\n",
    "startDate = parse('2020-9-23')\n",
    "\n",
    "# Define the date on the final file. Usually yesterday's date, which is the most recent complete file (i.e. where complete = not getting updated)\n",
    "endDate = datetime.today() - timedelta(days=1)\n",
    "# endDay = endDate.day\n",
    "# endMonth = endDate.month\n",
    "# endYear = endDate.year\n",
    "\n",
    "# Define all coins\n",
    "# coins = [\"BCH\", \"BSV\", \"BTC\", \"BTG\", \"DASH\", \"DOGE\", \"ETC\", \"ETH\", \"LSK\", \"LTC\", \"NEO\", \"OMG\", \"QTUM\", \"XLM\", \"XMR\",\n",
    "#          \"XRP\", \"ZEC\"]\n",
    "coins = [\"BCH\"]\n",
    "\n",
    "# Folder where all files are stored\n",
    "folder = \"Data\"\n",
    "\n",
    "# type of files to read\n",
    "fileExtension = \".csv\"\n",
    "\n",
    "# Data types of columns to read from the folder\n",
    "dataTypes = ['f', 'f', 'f', 'f', 'f', 'f', 'U6', 'U36', 'i', 'U36']\n",
    "\n",
    "# Read and append all data file files\n",
    "empty = []\n",
    "DataDictionary = {}\n",
    "coin = \"BCH\"\n",
    "#     for coin in coins:\n",
    "date = startDate\n",
    "\n",
    "DataDictionary[coin] = np.asarray(empty)\n",
    "\n",
    "    "
   ]
  },
  {
   "cell_type": "code",
   "execution_count": 40,
   "metadata": {},
   "outputs": [
    {
     "data": {
      "text/plain": [
       "datetime.datetime(2021, 3, 12, 18, 10, 59, 23935)"
      ]
     },
     "execution_count": 40,
     "metadata": {},
     "output_type": "execute_result"
    }
   ],
   "source": [
    "datetime.today() + timedelta(days=152)"
   ]
  },
  {
   "cell_type": "code",
   "execution_count": 41,
   "metadata": {},
   "outputs": [],
   "source": [
    "# Define the date on the initial file. Usually 9/23/2020\n",
    "startDate = parse('2020-9-23')\n",
    "\n",
    "# Define the date on the final file. Usually yesterday's date, which is the most recent complete file (i.e. where complete = not getting updated)\n",
    "endDate = datetime.today() - timedelta(days=1)\n",
    "# endDay = endDate.day\n",
    "# endMonth = endDate.month\n",
    "# endYear = endDate.year\n",
    "\n",
    "# Folder where all files are stored\n",
    "folder = \"Data\"\n",
    "\n",
    "# type of files to read\n",
    "fileExtension = \".csv\"\n",
    "\n",
    "# Data types of columns to read from the folder\n",
    "dataTypes = ['f', 'f', 'f', 'f', 'f', 'f', 'U6', 'U36', 'i', 'U36']\n",
    "\n",
    "# Read and append all data file files\n",
    "empty = []\n",
    "DataDictionary = {}\n",
    "for coin in coins:\n",
    "    date = startDate\n",
    "\n",
    "    DataDictionary[coin] = np.asarray(empty)\n",
    "\n",
    "    while(date <= endDate):\n",
    "        day = date.day\n",
    "        if(day < 10):\n",
    "            day = '0' + str(day)\n",
    "        else:\n",
    "            day = str(day)\n",
    "\n",
    "        month = date.month\n",
    "        if(month < 10):\n",
    "            month = '0' + str(month)\n",
    "        else:\n",
    "            month = str(month)\n",
    "\n",
    "        year = str(date.year)\n",
    "\n",
    "        pathname = folder + \"/\" + coin + \"/\" + coin + \"_\" + \\\n",
    "            day + \"_\" + month + \"_\" + year + fileExtension\n",
    "\n",
    "        data = np.genfromtxt(pathname, dtype=dataTypes,\n",
    "                             delimiter=',', names=True, usecols=np.arange(0, 10))\n",
    "\n",
    "        if(len(DataDictionary[coin]) == 0):\n",
    "            DataDictionary[coin] = data\n",
    "        else:\n",
    "            DataDictionary[coin] = np.append(DataDictionary[coin], data)\n",
    "        date = date + timedelta(days=1)\n"
   ]
  },
  {
   "cell_type": "code",
   "execution_count": 43,
   "metadata": {},
   "outputs": [
    {
     "name": "stdout",
     "output_type": "stream",
     "text": [
      "1\n",
      "74198\n"
     ]
    }
   ],
   "source": [
    "print(len(DataDictionary))\n",
    "print(len(DataDictionary[coin]))"
   ]
  },
  {
   "cell_type": "code",
   "execution_count": 45,
   "metadata": {},
   "outputs": [
    {
     "data": {
      "text/plain": [
       "('ask_price',\n",
       " 'bid_price',\n",
       " 'mark_price',\n",
       " 'high_price',\n",
       " 'low_price',\n",
       " 'open_price',\n",
       " 'symbol',\n",
       " 'id',\n",
       " 'volume',\n",
       " 'datetime')"
      ]
     },
     "execution_count": 45,
     "metadata": {},
     "output_type": "execute_result"
    }
   ],
   "source": [
    "coin = coins[0]\n",
    "tempData = DataDictionary[coin]\n",
    "DataDictionary[coin].dtype.names"
   ]
  },
  {
   "cell_type": "code",
   "execution_count": 46,
   "metadata": {},
   "outputs": [
    {
     "data": {
      "text/plain": [
       "array(['2f2b77c4-e426-4271-ae49-18d5cb296d3a',\n",
       "       '2f2b77c4-e426-4271-ae49-18d5cb296d3a',\n",
       "       '2f2b77c4-e426-4271-ae49-18d5cb296d3a', ...,\n",
       "       '2f2b77c4-e426-4271-ae49-18d5cb296d3a',\n",
       "       '2f2b77c4-e426-4271-ae49-18d5cb296d3a',\n",
       "       '2f2b77c4-e426-4271-ae49-18d5cb296d3a'], dtype='<U36')"
      ]
     },
     "execution_count": 46,
     "metadata": {},
     "output_type": "execute_result"
    }
   ],
   "source": [
    "tempData['id']"
   ]
  },
  {
   "cell_type": "code",
   "execution_count": 69,
   "metadata": {},
   "outputs": [
    {
     "name": "stdout",
     "output_type": "stream",
     "text": [
      "[209.29    209.48    209.45834 209.48    209.48    209.45    209.48949\n",
      " 209.52    209.41881 209.28   ]\n",
      "[208.98238 209.22447 209.13469 209.19    209.19    209.18222 209.18222\n",
      " 209.21915 209.14    208.99   ]\n",
      "[0.3076172  0.25552368 0.32365417 0.2899933  0.2899933  0.2677765\n",
      " 0.30726624 0.30085754 0.2788086  0.2899933 ]\n",
      "[0.1470894  0.12205444 0.15463907 ... 0.1342876  0.13287361 0.14852102]\n"
     ]
    }
   ],
   "source": [
    "ask_price = tempData['ask_price']\n",
    "bid_price = tempData['bid_price']\n",
    "mark_price = tempData['mark_price']\n",
    "datetimeStrings = tempData['datetime']\n",
    "volume = tempData['volume']\n",
    "spread = ask_price - bid_price\n",
    "percentageOfPrice = (spread/mark_price) *100\n",
    "\n",
    "print(ask_price[0:10])\n",
    "print(bid_price[0:10])\n",
    "print(spread[0:10])\n",
    "print(percentageOfPrice)\n"
   ]
  },
  {
   "cell_type": "code",
   "execution_count": 62,
   "metadata": {},
   "outputs": [],
   "source": [
    "datetimes = np.asarray([])\n",
    "for dateString in datetimeStrings:\n",
    "    datetimes = np.append(datetimes, datetime.fromisoformat(dateString))"
   ]
  },
  {
   "cell_type": "code",
   "execution_count": 70,
   "metadata": {},
   "outputs": [
    {
     "name": "stdout",
     "output_type": "stream",
     "text": [
      "2020-09-23 19:42:02.484146-05:00\n",
      "2020-09-23 19:42:17.444203-05:00\n",
      "2020-09-23 19:42:32.437536-05:00\n"
     ]
    }
   ],
   "source": [
    "print(datetimes[0])\n",
    "print(datetimes[1])\n",
    "print(datetimes[2])"
   ]
  },
  {
   "cell_type": "code",
   "execution_count": 71,
   "metadata": {},
   "outputs": [
    {
     "name": "stdout",
     "output_type": "stream",
     "text": [
      "[0 0 0 0 0 0 0 0 0 0]\n"
     ]
    }
   ],
   "source": [
    "print(volume[0:10])"
   ]
  },
  {
   "cell_type": "code",
   "execution_count": null,
   "metadata": {},
   "outputs": [],
   "source": []
  }
 ],
 "metadata": {
  "kernelspec": {
   "display_name": "Python 3",
   "language": "python",
   "name": "python3"
  },
  "language_info": {
   "codemirror_mode": {
    "name": "ipython",
    "version": 3
   },
   "file_extension": ".py",
   "mimetype": "text/x-python",
   "name": "python",
   "nbconvert_exporter": "python",
   "pygments_lexer": "ipython3",
   "version": "3.8.3"
  }
 },
 "nbformat": 4,
 "nbformat_minor": 4
}
